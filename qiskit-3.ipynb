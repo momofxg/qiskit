{
 "cells": [
  {
   "cell_type": "code",
   "execution_count": 59,
   "metadata": {},
   "outputs": [
    {
     "name": "stderr",
     "output_type": "stream",
     "text": [
      "ibmqfactory.load_account:WARNING:2020-07-01 02:02:20,519: Credentials are already in use. The existing account in the session will be replaced.\n"
     ]
    }
   ],
   "source": [
    "%matplotlib inline\n",
    "# Importing standard Qiskit libraries and configuring account\n",
    "from qiskit import QuantumCircuit, execute, Aer, IBMQ\n",
    "from qiskit.compiler import transpile, assemble\n",
    "from qiskit.tools.jupyter import *\n",
    "from qiskit.visualization import *\n",
    "# Loading your IBM Q account(s)\n",
    "provider = IBMQ.load_account()"
   ]
  },
  {
   "cell_type": "code",
   "execution_count": 60,
   "metadata": {},
   "outputs": [],
   "source": [
    "chin1='35234033217-125-03523403323421022321054325-035234033234210'\n",
    "chin2='351+6503561+501+3+2+1+02+1+61+503565601+2+560321202235501+2350351+6503561+501+3+2+1+02+1+61+503565601+2+56031+6503212023501+3+2+1+02+1+561+0'\n",
    "chin3='555055503565302350535320132033206-12066503650532305053230532306-123010'\n",
    "chin4='530530532305055306503532012035032120306565023506565023010'\n",
    "chin5='31331033565066654440232120313103356601+556302123501+55630212310'"
   ]
  },
  {
   "cell_type": "code",
   "execution_count": 61,
   "metadata": {},
   "outputs": [],
   "source": [
    "japn1='2+2+05+3+2+01+61+3+02+01+1+6051+065360501+65036503+2+3+1+02+02+5+03+2+1+0651+6050'\n",
    "japn2='6444644407766507766552+2+01+7654450666640777655607777501+1+1+76456701+61+4+01+61+5055676562+01+3+2+71+061+1+062+1+64056424506452+01+5640'\n",
    "japn3='533432105332033556601+33505533432105332053655066771+0'\n",
    "japn4='6701+71+3+07306561+05304341+031+07447076701+71+3+073306561+053041+71+02+3+1+01+7675061+2+03+2+3+5+02+501+71+2+3+03+0671+71+2+01+5504+3+2+1+03+3+06+6+5+5+03+2+1+1+02+1+2+5+03+3+06+6+5+5+03+2+1+1+02+1+2+7060'\n",
    "japn5='34534506655331102112303453450666655310223210646405553606655661+07766501+1+77506666601+1+66665601+1+1+1+1+0'"
   ]
  },
  {
   "cell_type": "code",
   "execution_count": 62,
   "metadata": {},
   "outputs": [],
   "source": [
    "korn1='22555557055575542202+1+1+1+77557075575542202255555405557554220'\n",
    "korn2='2+62+6065456602+62+6065432204242043456602+62+6065432204242043456602+62+60654320'\n",
    "korn3='11111035531055355301110553105550553105550553105556501+51+503210'\n",
    "korn4='3455012304321023203453012304321072106666601+555504444406333306666601+55550444440633330'\n",
    "korn5='11111103553310222222207-7-227-7-5-011111111103355331054432010'"
   ]
  },
  {
   "cell_type": "code",
   "execution_count": 63,
   "metadata": {},
   "outputs": [],
   "source": [
    "germ1='330533053501+76065230422304240765701+1101+6405310456051101+6405310432010'\n",
    "germ2='72+2+72+2+2+0777703+3+3+2+3+2+1+072+03+3+4+4+3+4+05+3+02+1+072+1+0705+5+3+2+072+72+2+505+5+3+2+072+72+50'\n",
    "germ3='5353053102432050535305310243201022440315024320505353053102432010'\n",
    "germ4='555052220556607701+1+66077550664405055550555503+3+3+3+02+01+1+1+1+0777702+2+2+2+050'"
   ]
  },
  {
   "cell_type": "code",
   "execution_count": 64,
   "metadata": {},
   "outputs": [],
   "source": [
    "fran1='7507750671+7062+7507507750671+7062+50'\n",
    "fran2='4564045640671+0671+01+2+1+76401+2+1+764041404140'\n",
    "fran3='44405550671+403451044405550671+405340'\n",
    "fran4='567766076753066675033303353607530555506666030'\n",
    "fran5='4506540550104506540550104506540501+040'"
   ]
  },
  {
   "cell_type": "code",
   "execution_count": 65,
   "metadata": {},
   "outputs": [],
   "source": [
    "span1='33335071+765601+1+3+2+07675506662+2+2+071+7650446504543033506765601+1+3+2+071+7650662+1+2+03+2+1+7650446504543230'\n",
    "span2='505053456071+67504042+02+02+3+1+2+701+76540303505053456071+67504042+02+02+3+1+2701+7654030301+1+1+1+702+2+1+760650507777606555605430301+1+1+1+702+2+1+760'\n",
    "span3='1+506501+1+550665503560601+56060355506650355506650663306630336603601+033061+60601+1+550665501+505+0'\n",
    "span4='53031205-05-13053065053031206-06-4601+602+1+034505034505351+02+3+03+02+505-5-310210220230460505110606701+765062206067055050501+01+02+1+70656070750606076702+1+2+05053405053405053501+2+03+03+2+05+05+03+1+0'"
   ]
  },
  {
   "cell_type": "code",
   "execution_count": 66,
   "metadata": {},
   "outputs": [],
   "source": [
    "us1='1111110355310222222207-227-5-011111103553102225-5-010'\n",
    "us2='1530531036305550650230323506305016015065350232010'\n",
    "us3='5-1033212106-115-10333543025403321230546-6-05-1232015-1033212106-115-1033322105-320117-6-7-107-6-4-4-03-6-5-5-010'\n"
   ]
  },
  {
   "cell_type": "code",
   "execution_count": 67,
   "metadata": {},
   "outputs": [],
   "source": [
    "total=[chin1,chin2,chin3,chin4,chin5,korn1,korn2,korn3,korn4,korn5,japn1,japn2,japn3,japn4,japn5,germ1,germ2,germ3,germ4,fran1,fran2,fran3,fran4,fran5,span1,span2,span3,span4,us1,us2,us3]\n",
    "num1=0\n",
    "num2=0\n",
    "num3=0\n",
    "num4=0\n",
    "num5=0\n",
    "num6=0\n",
    "num7=0"
   ]
  },
  {
   "cell_type": "code",
   "execution_count": 68,
   "metadata": {},
   "outputs": [],
   "source": [
    "for ii in range(len(total)):\n",
    "    num1 += total[ii].count('1')\n",
    "    num2 += total[ii].count('2')\n",
    "    num3 += total[ii].count('3')\n",
    "    num4 += total[ii].count('4')\n",
    "    num5 += total[ii].count('5')\n",
    "    num6 += total[ii].count('6')\n",
    "    num7 += total[ii].count('7')\n"
   ]
  },
  {
   "cell_type": "code",
   "execution_count": 69,
   "metadata": {},
   "outputs": [
    {
     "name": "stdout",
     "output_type": "stream",
     "text": [
      "Number of do:288\n",
      "Number of re:244\n",
      "Number of mi:296\n",
      "Number of fa:144\n",
      "Number of so:405\n",
      "Number of la:261\n",
      "Number of si:138\n"
     ]
    }
   ],
   "source": [
    "print(\"Number of do:\"+str(num1))\n",
    "print(\"Number of re:\"+str(num2))\n",
    "print(\"Number of mi:\"+str(num3))\n",
    "print(\"Number of fa:\"+str(num4))\n",
    "print(\"Number of so:\"+str(num5))\n",
    "print(\"Number of la:\"+str(num6))\n",
    "print(\"Number of si:\"+str(num7))"
   ]
  },
  {
   "cell_type": "code",
   "execution_count": 70,
   "metadata": {},
   "outputs": [],
   "source": [
    "num11=0\n",
    "num12=0\n",
    "num13=0\n",
    "num14=0\n",
    "num15=0\n",
    "num16=0\n",
    "num17=0\n",
    "num21=0\n",
    "num22=0\n",
    "num23=0\n",
    "num24=0\n",
    "num25=0\n",
    "num26=0\n",
    "num27=0\n",
    "num31=0\n",
    "num32=0\n",
    "num33=0\n",
    "num34=0\n",
    "num35=0\n",
    "num36=0\n",
    "num37=0\n",
    "num41=0\n",
    "num42=0\n",
    "num43=0\n",
    "num44=0\n",
    "num45=0\n",
    "num46=0\n",
    "num47=0\n",
    "num51=0\n",
    "num52=0\n",
    "num53=0\n",
    "num54=0\n",
    "num55=0\n",
    "num56=0\n",
    "num57=0\n",
    "num61=0\n",
    "num62=0\n",
    "num63=0\n",
    "num64=0\n",
    "num65=0\n",
    "num66=0\n",
    "num67=0\n",
    "num71=0\n",
    "num72=0\n",
    "num73=0\n",
    "num74=0\n",
    "num75=0\n",
    "num76=0\n",
    "num77=0"
   ]
  },
  {
   "cell_type": "code",
   "execution_count": 71,
   "metadata": {},
   "outputs": [],
   "source": [
    "for ii in range(len(total)):\n",
    "    num11 += total[ii].count('11')\n",
    "    num12 += total[ii].count('12')\n",
    "    num13 += total[ii].count('13')\n",
    "    num14 += total[ii].count('14')\n",
    "    num15 += total[ii].count('15')\n",
    "    num16 += total[ii].count('16')\n",
    "    num17 += total[ii].count('17')\n",
    "    num21 += total[ii].count('21')\n",
    "    num22 += total[ii].count('22')\n",
    "    num23 += total[ii].count('23')\n",
    "    num24 += total[ii].count('24')\n",
    "    num25 += total[ii].count('25')\n",
    "    num26 += total[ii].count('26')\n",
    "    num27 += total[ii].count('27')\n",
    "    num31 += total[ii].count('31')\n",
    "    num32 += total[ii].count('32')\n",
    "    num33 += total[ii].count('33')\n",
    "    num34 += total[ii].count('34')\n",
    "    num35 += total[ii].count('35')\n",
    "    num36 += total[ii].count('36')\n",
    "    num37 += total[ii].count('37')\n",
    "    num41 += total[ii].count('41')\n",
    "    num42 += total[ii].count('42')\n",
    "    num43 += total[ii].count('43')\n",
    "    num44 += total[ii].count('44')\n",
    "    num45 += total[ii].count('45')\n",
    "    num46 += total[ii].count('46')\n",
    "    num47 += total[ii].count('47')\n",
    "    num51 += total[ii].count('51')\n",
    "    num52 += total[ii].count('52')\n",
    "    num53 += total[ii].count('53')\n",
    "    num54 += total[ii].count('54')\n",
    "    num55 += total[ii].count('55')\n",
    "    num56 += total[ii].count('56')\n",
    "    num57 += total[ii].count('57')\n",
    "    num61 += total[ii].count('61')\n",
    "    num62 += total[ii].count('62')\n",
    "    num63 += total[ii].count('63')\n",
    "    num64 += total[ii].count('64')\n",
    "    num65 += total[ii].count('65')\n",
    "    num66 += total[ii].count('66')\n",
    "    num67 += total[ii].count('67')\n",
    "    num71 += total[ii].count('71')\n",
    "    num72 += total[ii].count('72')\n",
    "    num73 += total[ii].count('73')\n",
    "    num74 += total[ii].count('74')\n",
    "    num75 += total[ii].count('75')\n",
    "    num76 += total[ii].count('76')\n",
    "    num77 += total[ii].count('77')"
   ]
  },
  {
   "cell_type": "code",
   "execution_count": 72,
   "metadata": {},
   "outputs": [
    {
     "name": "stdout",
     "output_type": "stream",
     "text": [
      "12 0\n",
      "32 69\n"
     ]
    }
   ],
   "source": [
    "combototal=[num11,num12,num13,num14,num15,num16,num17,num21,num22,num23,num24,num25,num26,num27,num31,num32,num33,num34,num35,num36,num37,num41,num42,num43,num44,num45,num46,num47,num51,num52,num53,num54,num55,num56,num57,num61,num62,num63,num64,num65,num66,num67,num71,num72,num73,num74,num75,num76,num77]\n",
    "print(combototal.index(min(combototal)),min(combototal))\n",
    "print(combototal.index(max(combototal)),max(combototal))"
   ]
  },
  {
   "cell_type": "code",
   "execution_count": 73,
   "metadata": {},
   "outputs": [],
   "source": [
    "alphsong='115506650443302210554403320554403320115506650443302210'\n",
    "birsong='556501+70556502+1+0555+3+01+7604+4+3+1+02+1+'\n",
    "classicsong=[alphsong,birsong]\n",
    "num01=0\n",
    "num02=0\n",
    "num03=0\n",
    "num04=0\n",
    "num05=0\n",
    "num06=0\n",
    "num07=0\n",
    "for ii in range(len(classicsong)):\n",
    "    num01 += classicsong[ii].count('1')\n",
    "    num02 += classicsong[ii].count('2')\n",
    "    num03 += classicsong[ii].count('3')\n",
    "    num04 += classicsong[ii].count('4')\n",
    "    num05 += classicsong[ii].count('5')\n",
    "    num06 += classicsong[ii].count('6')\n",
    "    num07 += classicsong[ii].count('7')"
   ]
  },
  {
   "cell_type": "code",
   "execution_count": 74,
   "metadata": {},
   "outputs": [
    {
     "name": "stdout",
     "output_type": "stream",
     "text": [
      "Number of do:11\n",
      "Number of re:8\n",
      "Number of mi:10\n",
      "Number of fa:10\n",
      "Number of so:19\n",
      "Number of la:7\n",
      "Number of si:2\n"
     ]
    }
   ],
   "source": [
    "print(\"Number of do:\"+str(num01))\n",
    "print(\"Number of re:\"+str(num02))\n",
    "print(\"Number of mi:\"+str(num03))\n",
    "print(\"Number of fa:\"+str(num04))\n",
    "print(\"Number of so:\"+str(num05))\n",
    "print(\"Number of la:\"+str(num06))\n",
    "print(\"Number of si:\"+str(num07))"
   ]
  },
  {
   "cell_type": "code",
   "execution_count": 75,
   "metadata": {},
   "outputs": [],
   "source": [
    "num011=0\n",
    "num012=0\n",
    "num013=0\n",
    "num014=0\n",
    "num015=0\n",
    "num016=0\n",
    "num017=0\n",
    "num021=0\n",
    "num022=0\n",
    "num023=0\n",
    "num024=0\n",
    "num025=0\n",
    "num026=0\n",
    "num027=0\n",
    "num031=0\n",
    "num032=0\n",
    "num033=0\n",
    "num034=0\n",
    "num035=0\n",
    "num036=0\n",
    "num037=0\n",
    "num041=0\n",
    "num042=0\n",
    "num043=0\n",
    "num044=0\n",
    "num045=0\n",
    "num046=0\n",
    "num047=0\n",
    "num051=0\n",
    "num052=0\n",
    "num053=0\n",
    "num054=0\n",
    "num055=0\n",
    "num056=0\n",
    "num057=0\n",
    "num061=0\n",
    "num062=0\n",
    "num063=0\n",
    "num064=0\n",
    "num065=0\n",
    "num066=0\n",
    "num067=0\n",
    "num071=0\n",
    "num072=0\n",
    "num073=0\n",
    "num074=0\n",
    "num075=0\n",
    "num076=0\n",
    "num077=0"
   ]
  },
  {
   "cell_type": "code",
   "execution_count": 76,
   "metadata": {},
   "outputs": [],
   "source": [
    "for ii in range(len(classicsong)):\n",
    "    num011 += classicsong[ii].count('11')\n",
    "    num012 += classicsong[ii].count('12')\n",
    "    num013 += classicsong[ii].count('13')\n",
    "    num014 += classicsong[ii].count('14')\n",
    "    num015 += classicsong[ii].count('15')\n",
    "    num016 += classicsong[ii].count('16')\n",
    "    num017 += classicsong[ii].count('17')\n",
    "    num021 += classicsong[ii].count('21')\n",
    "    num022 += classicsong[ii].count('22')\n",
    "    num023 += classicsong[ii].count('23')\n",
    "    num024 += classicsong[ii].count('24')\n",
    "    num025 += classicsong[ii].count('25')\n",
    "    num026 += classicsong[ii].count('26')\n",
    "    num027 += classicsong[ii].count('27')\n",
    "    num031 += classicsong[ii].count('31')\n",
    "    num032 += classicsong[ii].count('32')\n",
    "    num033 += classicsong[ii].count('33')\n",
    "    num034 += classicsong[ii].count('34')\n",
    "    num035 += classicsong[ii].count('35')\n",
    "    num036 += classicsong[ii].count('36')\n",
    "    num037 += classicsong[ii].count('37')\n",
    "    num041 += classicsong[ii].count('41')\n",
    "    num042 += classicsong[ii].count('42')\n",
    "    num043 += classicsong[ii].count('43')\n",
    "    num044 += classicsong[ii].count('44')\n",
    "    num045 += classicsong[ii].count('45')\n",
    "    num046 += classicsong[ii].count('46')\n",
    "    num047 += classicsong[ii].count('47')\n",
    "    num051 += classicsong[ii].count('51')\n",
    "    num052 += classicsong[ii].count('52')\n",
    "    num053 += classicsong[ii].count('53')\n",
    "    num054 += classicsong[ii].count('54')\n",
    "    num055 += classicsong[ii].count('55')\n",
    "    num056 += classicsong[ii].count('56')\n",
    "    num057 += classicsong[ii].count('57')\n",
    "    num061 += classicsong[ii].count('61')\n",
    "    num062 += classicsong[ii].count('62')\n",
    "    num063 += classicsong[ii].count('63')\n",
    "    num064 += classicsong[ii].count('64')\n",
    "    num065 += classicsong[ii].count('65')\n",
    "    num066 += classicsong[ii].count('66')\n",
    "    num067 += classicsong[ii].count('67')\n",
    "    num071 += classicsong[ii].count('71')\n",
    "    num072 += classicsong[ii].count('72')\n",
    "    num073 += classicsong[ii].count('73')\n",
    "    num074 += classicsong[ii].count('74')\n",
    "    num075 += classicsong[ii].count('75')\n",
    "    num076 += classicsong[ii].count('76')\n",
    "    num077 += classicsong[ii].count('77')"
   ]
  },
  {
   "cell_type": "code",
   "execution_count": 77,
   "metadata": {},
   "outputs": [
    {
     "name": "stdout",
     "output_type": "stream",
     "text": [
      "1 0\n",
      "32 7\n"
     ]
    }
   ],
   "source": [
    "classiccombototal=[num011,num012,num013,num014,num015,num016,num017,num021,num022,num023,num024,num025,num026,num027,num031,num032,num033,num034,num035,num036,num037,num041,num042,num043,num044,num045,num046,num047,num051,num052,num053,num054,num055,num056,num057,num061,num062,num063,num064,num065,num066,num067,num071,num072,num073,num074,num075,num076,num077]\n",
    "print(classiccombototal.index(min(classiccombototal)),min(classiccombototal))\n",
    "print(classiccombototal.index(max(classiccombototal)),max(classiccombototal))"
   ]
  },
  {
   "cell_type": "code",
   "execution_count": 78,
   "metadata": {},
   "outputs": [
    {
     "name": "stdout",
     "output_type": "stream",
     "text": [
      "30 64\n"
     ]
    }
   ],
   "source": [
    "del combototal[32]\n",
    "print(combototal.index(max(combototal)),max(combototal))"
   ]
  },
  {
   "cell_type": "code",
   "execution_count": 79,
   "metadata": {},
   "outputs": [
    {
     "name": "stdout",
     "output_type": "stream",
     "text": [
      "16 4\n"
     ]
    }
   ],
   "source": [
    "del classiccombototal[32]\n",
    "print(classiccombototal.index(max(classiccombototal)),max(classiccombototal))"
   ]
  },
  {
   "cell_type": "code",
   "execution_count": 80,
   "metadata": {},
   "outputs": [
    {
     "name": "stdout",
     "output_type": "stream",
     "text": [
      "37 63\n"
     ]
    }
   ],
   "source": [
    "del combototal[30]\n",
    "print(combototal.index(max(combototal)),max(combototal))"
   ]
  },
  {
   "cell_type": "code",
   "execution_count": 81,
   "metadata": {},
   "outputs": [
    {
     "name": "stdout",
     "output_type": "stream",
     "text": [
      "23 4\n"
     ]
    }
   ],
   "source": [
    "del classiccombototal[16]\n",
    "print(classiccombototal.index(max(classiccombototal)),max(classiccombototal))"
   ]
  },
  {
   "cell_type": "code",
   "execution_count": 82,
   "metadata": {},
   "outputs": [
    {
     "name": "stdout",
     "output_type": "stream",
     "text": [
      "18 45\n"
     ]
    }
   ],
   "source": [
    "del combototal[37]\n",
    "print(combototal.index(max(combototal)),max(combototal))"
   ]
  },
  {
   "cell_type": "code",
   "execution_count": 83,
   "metadata": {},
   "outputs": [
    {
     "name": "stdout",
     "output_type": "stream",
     "text": [
      "36 4\n"
     ]
    }
   ],
   "source": [
    "del classiccombototal[23]\n",
    "print(classiccombototal.index(max(classiccombototal)),max(classiccombototal))"
   ]
  },
  {
   "cell_type": "code",
   "execution_count": 84,
   "metadata": {},
   "outputs": [
    {
     "name": "stdout",
     "output_type": "stream",
     "text": [
      "15 44\n"
     ]
    }
   ],
   "source": [
    "del combototal[18]\n",
    "print(combototal.index(max(combototal)),max(combototal))"
   ]
  },
  {
   "cell_type": "code",
   "execution_count": 85,
   "metadata": {},
   "outputs": [
    {
     "name": "stdout",
     "output_type": "stream",
     "text": [
      "0 2\n"
     ]
    }
   ],
   "source": [
    "del classiccombototal[36]\n",
    "print(classiccombototal.index(max(classiccombototal)),max(classiccombototal))"
   ]
  },
  {
   "cell_type": "code",
   "execution_count": null,
   "metadata": {},
   "outputs": [],
   "source": []
  }
 ],
 "metadata": {
  "kernelspec": {
   "display_name": "Python 3",
   "language": "python",
   "name": "python3"
  },
  "language_info": {
   "codemirror_mode": {
    "name": "ipython",
    "version": 3
   },
   "file_extension": ".py",
   "mimetype": "text/x-python",
   "name": "python",
   "nbconvert_exporter": "python",
   "pygments_lexer": "ipython3",
   "version": "3.7.6"
  }
 },
 "nbformat": 4,
 "nbformat_minor": 4
}
